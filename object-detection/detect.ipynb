{
 "cells": [
  {
   "cell_type": "code",
   "execution_count": null,
   "metadata": {},
   "outputs": [],
   "source": [
    "from IPython.display import Image, display\n",
    "import cv2\n",
    "import cvlib as cv\n",
    "from cvlib.object_detection import draw_bbox\n",
    "import os\n",
    "\n",
    "# example images\n",
    "image_files = [\n",
    "    'apple.jpg',\n",
    "    'clock.jpg',\n",
    "    'oranges.jpg',\n",
    "    'car.jpg'\n",
    "]\n",
    "\n",
    "dir_name = \"images_with_boxes\"\n",
    "if not os.path.exists(dir_name):\n",
    "    os.mkdir(dir_name)\n",
    "\n",
    "def detect_and_draw_box(filename, model=\"yolov3-tiny\", confidence=0.5):\n",
    "    \"\"\"Detects common objects on an image and creates a new image with bounding boxes.\n",
    "\n",
    "    Args:\n",
    "        filename (str): Filename of the image.\n",
    "        model (str): Either \"yolov3\" or \"yolov3-tiny\". Defaults to \"yolov3-tiny\".\n",
    "        confidence (float, optional): Desired confidence level. Defaults to 0.5.\n",
    "    \"\"\"\n",
    "    img_filepath = f'images/{filename}'\n",
    "    img = cv2.imread(img_filepath)\n",
    "    bbox, label, conf = cv.detect_common_objects(img, confidence=confidence, model=model)\n",
    "    print(f\"n=Image processed: {filename}\\n\")\n",
    "    for l, c in zip(label, conf):\n",
    "        print(f\"Detected object: {l} with confidence level of {c}\\n\")\n",
    "    output_image = draw_bbox(img, bbox, label, conf)\n",
    "    cv2.imwrite(f'images_with_boxes/{filename}', output_image)\n",
    "    display(Image(f'images_with_boxes/{filename}'))\n",
    "\n",
    "for image_file in image_files:\n",
    "    detect_and_draw_box(image_file)\n"
   ]
  }
 ],
 "metadata": {
  "kernelspec": {
   "display_name": "Python 3 (ipykernel)",
   "language": "python",
   "name": "python3"
  },
  "language_info": {
   "codemirror_mode": {
    "name": "ipython",
    "version": 3
   },
   "file_extension": ".py",
   "mimetype": "text/x-python",
   "name": "python",
   "nbconvert_exporter": "python",
   "pygments_lexer": "ipython3",
   "version": "3.8.15"
  }
 },
 "nbformat": 4,
 "nbformat_minor": 4
}
